{
 "cells": [
  {
   "cell_type": "markdown",
   "metadata": {},
   "source": [
    "# 第4章: 形態素解析\n",
    "夏目漱石の小説『吾輩は猫である』の文章（neko.txt）をMeCabを使って形態素解析し，その結果をneko.txt.mecabというファイルに保存せよ．このファイルを用いて，以下の問に対応するプログラムを実装せよ．\n",
    "\n",
    "なお，問題37, 38, 39はmatplotlibもしくはGnuplotを用いるとよい．"
   ]
  },
  {
   "cell_type": "code",
   "execution_count": 2,
   "metadata": {},
   "outputs": [],
   "source": [
    "import MeCab"
   ]
  },
  {
   "cell_type": "code",
   "execution_count": 3,
   "metadata": {},
   "outputs": [],
   "source": [
    "f = open('neko.txt')\n",
    "lines = f.read()  \n",
    "f.close()\n",
    "\n",
    "tagger = MeCab.Tagger()\n",
    "result = tagger.parse(lines)\n",
    "\n",
    "f = open('neko.txt.mecab', 'w') \n",
    "f.writelines(result) \n",
    "f.close()"
   ]
  },
  {
   "cell_type": "code",
   "execution_count": 4,
   "metadata": {},
   "outputs": [],
   "source": [
    "igfont = {'family':'IPAexGothic'}"
   ]
  },
  {
   "cell_type": "markdown",
   "metadata": {},
   "source": [
    "# 30. 形態素解析結果の読み込み\n",
    "形態素解析結果（neko.txt.mecab）を読み込むプログラムを実装せよ．ただし，各形態素は表層形（surface），基本形（base），品詞（pos），品詞細分類1（pos1）をキーとするマッピング型に格納し，1文を形態素（マッピング型）のリストとして表現せよ．第4章の残りの問題では，ここで作ったプログラムを活用せよ．"
   ]
  },
  {
   "cell_type": "code",
   "execution_count": 5,
   "metadata": {
    "scrolled": false
   },
   "outputs": [
    {
     "data": {
      "text/plain": [
       "[[{'base': '一', 'pos': '名詞', 'pos1': '数', 'surface': '一'},\n",
       "  {'base': '\\u3000', 'pos': '記号', 'pos1': '空白', 'surface': '\\u3000'},\n",
       "  {'base': '吾輩', 'pos': '名詞', 'pos1': '代名詞', 'surface': '吾輩'},\n",
       "  {'base': 'は', 'pos': '助詞', 'pos1': '係助詞', 'surface': 'は'},\n",
       "  {'base': '猫', 'pos': '名詞', 'pos1': '一般', 'surface': '猫'},\n",
       "  {'base': 'だ', 'pos': '助動詞', 'pos1': '*', 'surface': 'で'},\n",
       "  {'base': 'ある', 'pos': '助動詞', 'pos1': '*', 'surface': 'ある'},\n",
       "  {'base': '。', 'pos': '記号', 'pos1': '句点', 'surface': '。'}],\n",
       " [{'base': '名前', 'pos': '名詞', 'pos1': '一般', 'surface': '名前'},\n",
       "  {'base': 'は', 'pos': '助詞', 'pos1': '係助詞', 'surface': 'は'},\n",
       "  {'base': 'まだ', 'pos': '副詞', 'pos1': '助詞類接続', 'surface': 'まだ'},\n",
       "  {'base': '無い', 'pos': '形容詞', 'pos1': '自立', 'surface': '無い'},\n",
       "  {'base': '。', 'pos': '記号', 'pos1': '句点', 'surface': '。'}],\n",
       " [{'base': '\\u3000', 'pos': '記号', 'pos1': '空白', 'surface': '\\u3000'},\n",
       "  {'base': 'どこ', 'pos': '名詞', 'pos1': '代名詞', 'surface': 'どこ'},\n",
       "  {'base': 'で', 'pos': '助詞', 'pos1': '格助詞', 'surface': 'で'},\n",
       "  {'base': '生れる', 'pos': '動詞', 'pos1': '自立', 'surface': '生れ'},\n",
       "  {'base': 'た', 'pos': '助動詞', 'pos1': '*', 'surface': 'た'},\n",
       "  {'base': 'か', 'pos': '助詞', 'pos1': '副助詞／並立助詞／終助詞', 'surface': 'か'},\n",
       "  {'base': 'とんと', 'pos': '副詞', 'pos1': '一般', 'surface': 'とんと'},\n",
       "  {'base': '見当', 'pos': '名詞', 'pos1': 'サ変接続', 'surface': '見当'},\n",
       "  {'base': 'が', 'pos': '助詞', 'pos1': '格助詞', 'surface': 'が'},\n",
       "  {'base': 'つく', 'pos': '動詞', 'pos1': '自立', 'surface': 'つか'},\n",
       "  {'base': 'ぬ', 'pos': '助動詞', 'pos1': '*', 'surface': 'ぬ'},\n",
       "  {'base': '。', 'pos': '記号', 'pos1': '句点', 'surface': '。'}],\n",
       " [{'base': '何', 'pos': '名詞', 'pos1': '代名詞', 'surface': '何'},\n",
       "  {'base': 'でも', 'pos': '助詞', 'pos1': '副助詞', 'surface': 'でも'},\n",
       "  {'base': '薄暗い', 'pos': '形容詞', 'pos1': '自立', 'surface': '薄暗い'},\n",
       "  {'base': 'じめじめ', 'pos': '副詞', 'pos1': '一般', 'surface': 'じめじめ'},\n",
       "  {'base': 'する', 'pos': '動詞', 'pos1': '自立', 'surface': 'し'},\n",
       "  {'base': 'た', 'pos': '助動詞', 'pos1': '*', 'surface': 'た'},\n",
       "  {'base': '所', 'pos': '名詞', 'pos1': '非自立', 'surface': '所'},\n",
       "  {'base': 'で', 'pos': '助詞', 'pos1': '格助詞', 'surface': 'で'},\n",
       "  {'base': '*\\n', 'pos': '名詞', 'pos1': '一般', 'surface': 'ニャーニャー'},\n",
       "  {'base': '泣く', 'pos': '動詞', 'pos1': '自立', 'surface': '泣い'},\n",
       "  {'base': 'て', 'pos': '助詞', 'pos1': '接続助詞', 'surface': 'て'},\n",
       "  {'base': 'いた事', 'pos': '名詞', 'pos1': '一般', 'surface': 'いた事'},\n",
       "  {'base': 'だけ', 'pos': '助詞', 'pos1': '副助詞', 'surface': 'だけ'},\n",
       "  {'base': 'は', 'pos': '助詞', 'pos1': '係助詞', 'surface': 'は'},\n",
       "  {'base': '記憶', 'pos': '名詞', 'pos1': 'サ変接続', 'surface': '記憶'},\n",
       "  {'base': 'する', 'pos': '動詞', 'pos1': '自立', 'surface': 'し'},\n",
       "  {'base': 'て', 'pos': '助詞', 'pos1': '接続助詞', 'surface': 'て'},\n",
       "  {'base': 'いる', 'pos': '動詞', 'pos1': '非自立', 'surface': 'いる'},\n",
       "  {'base': '。', 'pos': '記号', 'pos1': '句点', 'surface': '。'}],\n",
       " [{'base': '吾輩', 'pos': '名詞', 'pos1': '代名詞', 'surface': '吾輩'},\n",
       "  {'base': 'は', 'pos': '助詞', 'pos1': '係助詞', 'surface': 'は'},\n",
       "  {'base': 'ここ', 'pos': '名詞', 'pos1': '代名詞', 'surface': 'ここ'},\n",
       "  {'base': 'で', 'pos': '助詞', 'pos1': '格助詞', 'surface': 'で'},\n",
       "  {'base': '始める', 'pos': '動詞', 'pos1': '自立', 'surface': '始め'},\n",
       "  {'base': 'て', 'pos': '助詞', 'pos1': '接続助詞', 'surface': 'て'},\n",
       "  {'base': '人間', 'pos': '名詞', 'pos1': '一般', 'surface': '人間'},\n",
       "  {'base': 'という', 'pos': '助詞', 'pos1': '格助詞', 'surface': 'という'},\n",
       "  {'base': 'もの', 'pos': '名詞', 'pos1': '非自立', 'surface': 'もの'},\n",
       "  {'base': 'を', 'pos': '助詞', 'pos1': '格助詞', 'surface': 'を'},\n",
       "  {'base': '見る', 'pos': '動詞', 'pos1': '自立', 'surface': '見'},\n",
       "  {'base': 'た', 'pos': '助動詞', 'pos1': '*', 'surface': 'た'},\n",
       "  {'base': '。', 'pos': '記号', 'pos1': '句点', 'surface': '。'}],\n",
       " [{'base': 'しかも', 'pos': '接続詞', 'pos1': '*', 'surface': 'しかも'},\n",
       "  {'base': 'あと', 'pos': '名詞', 'pos1': '一般', 'surface': 'あと'},\n",
       "  {'base': 'で', 'pos': '助詞', 'pos1': '格助詞', 'surface': 'で'},\n",
       "  {'base': '聞く', 'pos': '動詞', 'pos1': '自立', 'surface': '聞く'},\n",
       "  {'base': 'と', 'pos': '助詞', 'pos1': '接続助詞', 'surface': 'と'},\n",
       "  {'base': 'それ', 'pos': '名詞', 'pos1': '代名詞', 'surface': 'それ'},\n",
       "  {'base': 'は', 'pos': '助詞', 'pos1': '係助詞', 'surface': 'は'},\n",
       "  {'base': '書生', 'pos': '名詞', 'pos1': '一般', 'surface': '書生'},\n",
       "  {'base': 'という', 'pos': '助詞', 'pos1': '格助詞', 'surface': 'という'},\n",
       "  {'base': '人間', 'pos': '名詞', 'pos1': '一般', 'surface': '人間'},\n",
       "  {'base': '中', 'pos': '名詞', 'pos1': '接尾', 'surface': '中'},\n",
       "  {'base': 'で', 'pos': '助詞', 'pos1': '格助詞', 'surface': 'で'},\n",
       "  {'base': '一番', 'pos': '名詞', 'pos1': '副詞可能', 'surface': '一番'},\n",
       "  {'base': '獰悪', 'pos': '名詞', 'pos1': '形容動詞語幹', 'surface': '獰悪'},\n",
       "  {'base': 'だ', 'pos': '助動詞', 'pos1': '*', 'surface': 'な'},\n",
       "  {'base': '種族', 'pos': '名詞', 'pos1': '一般', 'surface': '種族'},\n",
       "  {'base': 'だ', 'pos': '助動詞', 'pos1': '*', 'surface': 'で'},\n",
       "  {'base': 'ある', 'pos': '助動詞', 'pos1': '*', 'surface': 'あっ'},\n",
       "  {'base': 'た', 'pos': '助動詞', 'pos1': '*', 'surface': 'た'},\n",
       "  {'base': 'そう', 'pos': '名詞', 'pos1': '特殊', 'surface': 'そう'},\n",
       "  {'base': 'だ', 'pos': '助動詞', 'pos1': '*', 'surface': 'だ'},\n",
       "  {'base': '。', 'pos': '記号', 'pos1': '句点', 'surface': '。'}],\n",
       " [{'base': 'この', 'pos': '連体詞', 'pos1': '*', 'surface': 'この'},\n",
       "  {'base': '書生', 'pos': '名詞', 'pos1': '一般', 'surface': '書生'},\n",
       "  {'base': 'という', 'pos': '助詞', 'pos1': '格助詞', 'surface': 'という'},\n",
       "  {'base': 'の', 'pos': '名詞', 'pos1': '非自立', 'surface': 'の'},\n",
       "  {'base': 'は', 'pos': '助詞', 'pos1': '係助詞', 'surface': 'は'},\n",
       "  {'base': '時々', 'pos': '副詞', 'pos1': '一般', 'surface': '時々'},\n",
       "  {'base': '我々', 'pos': '名詞', 'pos1': '代名詞', 'surface': '我々'},\n",
       "  {'base': 'を', 'pos': '助詞', 'pos1': '格助詞', 'surface': 'を'},\n",
       "  {'base': '捕える', 'pos': '動詞', 'pos1': '自立', 'surface': '捕え'},\n",
       "  {'base': 'て', 'pos': '助詞', 'pos1': '接続助詞', 'surface': 'て'},\n",
       "  {'base': '煮る', 'pos': '動詞', 'pos1': '自立', 'surface': '煮'},\n",
       "  {'base': 'て', 'pos': '助詞', 'pos1': '接続助詞', 'surface': 'て'},\n",
       "  {'base': '食う', 'pos': '動詞', 'pos1': '自立', 'surface': '食う'},\n",
       "  {'base': 'という', 'pos': '助詞', 'pos1': '格助詞', 'surface': 'という'},\n",
       "  {'base': '話', 'pos': '名詞', 'pos1': 'サ変接続', 'surface': '話'},\n",
       "  {'base': 'だ', 'pos': '助動詞', 'pos1': '*', 'surface': 'で'},\n",
       "  {'base': 'ある', 'pos': '助動詞', 'pos1': '*', 'surface': 'ある'},\n",
       "  {'base': '。', 'pos': '記号', 'pos1': '句点', 'surface': '。'}],\n",
       " [{'base': 'しかし', 'pos': '接続詞', 'pos1': '*', 'surface': 'しかし'},\n",
       "  {'base': 'その', 'pos': '連体詞', 'pos1': '*', 'surface': 'その'},\n",
       "  {'base': '当時', 'pos': '名詞', 'pos1': '副詞可能', 'surface': '当時'},\n",
       "  {'base': 'は', 'pos': '助詞', 'pos1': '係助詞', 'surface': 'は'},\n",
       "  {'base': '何', 'pos': '名詞', 'pos1': '代名詞', 'surface': '何'},\n",
       "  {'base': 'という', 'pos': '助詞', 'pos1': '格助詞', 'surface': 'という'},\n",
       "  {'base': '考', 'pos': '名詞', 'pos1': '一般', 'surface': '考'},\n",
       "  {'base': 'も', 'pos': '助詞', 'pos1': '係助詞', 'surface': 'も'},\n",
       "  {'base': 'ない', 'pos': '形容詞', 'pos1': '自立', 'surface': 'なかっ'},\n",
       "  {'base': 'た', 'pos': '助動詞', 'pos1': '*', 'surface': 'た'},\n",
       "  {'base': 'から', 'pos': '助詞', 'pos1': '接続助詞', 'surface': 'から'},\n",
       "  {'base': '別段', 'pos': '副詞', 'pos1': '助詞類接続', 'surface': '別段'},\n",
       "  {'base': '恐い', 'pos': '形容詞', 'pos1': '自立', 'surface': '恐し'},\n",
       "  {'base': 'いとも', 'pos': '副詞', 'pos1': '一般', 'surface': 'いとも'},\n",
       "  {'base': '思う', 'pos': '動詞', 'pos1': '自立', 'surface': '思わ'},\n",
       "  {'base': 'ない', 'pos': '助動詞', 'pos1': '*', 'surface': 'なかっ'},\n",
       "  {'base': 'た', 'pos': '助動詞', 'pos1': '*', 'surface': 'た'},\n",
       "  {'base': '。', 'pos': '記号', 'pos1': '句点', 'surface': '。'}],\n",
       " [{'base': 'ただ', 'pos': '接続詞', 'pos1': '*', 'surface': 'ただ'},\n",
       "  {'base': '彼', 'pos': '名詞', 'pos1': '代名詞', 'surface': '彼'},\n",
       "  {'base': 'の', 'pos': '助詞', 'pos1': '連体化', 'surface': 'の'},\n",
       "  {'base': '掌', 'pos': '名詞', 'pos1': '一般', 'surface': '掌'},\n",
       "  {'base': 'に', 'pos': '助詞', 'pos1': '格助詞', 'surface': 'に'},\n",
       "  {'base': '載せる', 'pos': '動詞', 'pos1': '自立', 'surface': '載せ'},\n",
       "  {'base': 'られる', 'pos': '動詞', 'pos1': '接尾', 'surface': 'られ'},\n",
       "  {'base': 'て', 'pos': '助詞', 'pos1': '接続助詞', 'surface': 'て'},\n",
       "  {'base': 'スー', 'pos': '名詞', 'pos1': '固有名詞', 'surface': 'スー'},\n",
       "  {'base': 'と', 'pos': '助詞', 'pos1': '格助詞', 'surface': 'と'},\n",
       "  {'base': '持ち上げる', 'pos': '動詞', 'pos1': '自立', 'surface': '持ち上げ'},\n",
       "  {'base': 'られる', 'pos': '動詞', 'pos1': '接尾', 'surface': 'られ'},\n",
       "  {'base': 'た', 'pos': '助動詞', 'pos1': '*', 'surface': 'た'},\n",
       "  {'base': '時', 'pos': '名詞', 'pos1': '非自立', 'surface': '時'},\n",
       "  {'base': '何だか', 'pos': '副詞', 'pos1': '一般', 'surface': '何だか'},\n",
       "  {'base': 'フワフワ', 'pos': '副詞', 'pos1': '助詞類接続', 'surface': 'フワフワ'},\n",
       "  {'base': 'する', 'pos': '動詞', 'pos1': '自立', 'surface': 'し'},\n",
       "  {'base': 'た', 'pos': '助動詞', 'pos1': '*', 'surface': 'た'},\n",
       "  {'base': '感じ', 'pos': '名詞', 'pos1': '一般', 'surface': '感じ'},\n",
       "  {'base': 'が', 'pos': '助詞', 'pos1': '格助詞', 'surface': 'が'},\n",
       "  {'base': 'ある', 'pos': '動詞', 'pos1': '自立', 'surface': 'あっ'},\n",
       "  {'base': 'た', 'pos': '助動詞', 'pos1': '*', 'surface': 'た'},\n",
       "  {'base': 'ばかり', 'pos': '助詞', 'pos1': '副助詞', 'surface': 'ばかり'},\n",
       "  {'base': 'だ', 'pos': '助動詞', 'pos1': '*', 'surface': 'で'},\n",
       "  {'base': 'ある', 'pos': '助動詞', 'pos1': '*', 'surface': 'ある'},\n",
       "  {'base': '。', 'pos': '記号', 'pos1': '句点', 'surface': '。'}],\n",
       " [{'base': '掌', 'pos': '名詞', 'pos1': '一般', 'surface': '掌'},\n",
       "  {'base': 'の', 'pos': '助詞', 'pos1': '連体化', 'surface': 'の'},\n",
       "  {'base': '上', 'pos': '名詞', 'pos1': '非自立', 'surface': '上'},\n",
       "  {'base': 'で', 'pos': '助詞', 'pos1': '格助詞', 'surface': 'で'},\n",
       "  {'base': '少し', 'pos': '副詞', 'pos1': '助詞類接続', 'surface': '少し'},\n",
       "  {'base': '落ちつく', 'pos': '動詞', 'pos1': '自立', 'surface': '落ちつい'},\n",
       "  {'base': 'て', 'pos': '助詞', 'pos1': '接続助詞', 'surface': 'て'},\n",
       "  {'base': '書生', 'pos': '名詞', 'pos1': '一般', 'surface': '書生'},\n",
       "  {'base': 'の', 'pos': '助詞', 'pos1': '連体化', 'surface': 'の'},\n",
       "  {'base': '顔', 'pos': '名詞', 'pos1': '一般', 'surface': '顔'},\n",
       "  {'base': 'を', 'pos': '助詞', 'pos1': '格助詞', 'surface': 'を'},\n",
       "  {'base': '見る', 'pos': '動詞', 'pos1': '自立', 'surface': '見'},\n",
       "  {'base': 'た', 'pos': '助動詞', 'pos1': '*', 'surface': 'た'},\n",
       "  {'base': 'の', 'pos': '名詞', 'pos1': '非自立', 'surface': 'の'},\n",
       "  {'base': 'が', 'pos': '助詞', 'pos1': '格助詞', 'surface': 'が'},\n",
       "  {'base': 'いわゆる', 'pos': '連体詞', 'pos1': '*', 'surface': 'いわゆる'},\n",
       "  {'base': '人間', 'pos': '名詞', 'pos1': '一般', 'surface': '人間'},\n",
       "  {'base': 'という', 'pos': '助詞', 'pos1': '格助詞', 'surface': 'という'},\n",
       "  {'base': 'もの', 'pos': '名詞', 'pos1': '非自立', 'surface': 'もの'},\n",
       "  {'base': 'の', 'pos': '助詞', 'pos1': '格助詞', 'surface': 'の'},\n",
       "  {'base': '見る', 'pos': '動詞', 'pos1': '自立', 'surface': '見'},\n",
       "  {'base': '始', 'pos': '名詞', 'pos1': '固有名詞', 'surface': '始'},\n",
       "  {'base': 'だ', 'pos': '助動詞', 'pos1': '*', 'surface': 'で'},\n",
       "  {'base': 'ある', 'pos': '助動詞', 'pos1': '*', 'surface': 'あろ'},\n",
       "  {'base': 'う', 'pos': '助動詞', 'pos1': '*', 'surface': 'う'},\n",
       "  {'base': '。', 'pos': '記号', 'pos1': '句点', 'surface': '。'}]]"
      ]
     },
     "execution_count": 5,
     "metadata": {},
     "output_type": "execute_result"
    }
   ],
   "source": [
    "with open('neko.txt.mecab') as neko_text:\n",
    "    ans_list = []\n",
    "    total_ans_list = []\n",
    "    \n",
    "    for line in neko_text:\n",
    "        line = line.split('\\t') \n",
    "        if len(line) == 1:\n",
    "            break\n",
    "        line2 = line[1].split(',')\n",
    "        \n",
    "       \n",
    "        mecab_dict = {\n",
    "            'surface' : line[0],\n",
    "            'base' : line2[6],\n",
    "            'pos' : line2[0],\n",
    "            'pos1' : line2[1]\n",
    "        }\n",
    "        \n",
    "        ans_list.append(mecab_dict)\n",
    "        \n",
    "        if line2[1] == '句点':\n",
    "            total_ans_list.append(ans_list)\n",
    "            ans_list = []\n",
    "total_ans_list[0:10]"
   ]
  },
  {
   "cell_type": "markdown",
   "metadata": {},
   "source": [
    "# 31. 動詞\n",
    "動詞の表層形をすべて抽出せよ．"
   ]
  },
  {
   "cell_type": "code",
   "execution_count": 6,
   "metadata": {},
   "outputs": [
    {
     "name": "stdout",
     "output_type": "stream",
     "text": [
      "['生れ', 'つか', 'し', '泣い', 'し', 'いる', '始め', '見', '聞く', '捕え', '煮', '食う', '思わ', '載せ', 'られ', '持ち上げ', 'られ', 'し', 'あっ', '落ちつい', '見', '見', '思っ', '残っ', 'いる', 'さ', 'れ', 'し', '逢っ', '出会わ', 'し', 'なら', 'し', 'いる', '吹く', 'せ', '弱っ', '飲む', '知っ', '坐っ', 'おっ', 'する', 'し', '始め', '動く', '動く', '分ら', '廻る', 'なる', '助から', '思っ', 'いる', 'さり', 'し', '出', 'し', 'いる', '考え出そ', '分ら', '付い', '見る', 'い', 'おっ', '見え', '隠し', 'しまっ', '違っ', '明い', 'い', 'られ', '這い出し', '見る', '棄て', 'られ', '這い出す', 'ある', '坐っ', 'し', '考え', '見', '出', 'し', '泣い', '来', 'くれる', '考え付い', 'やっ', '見', '来', '渡っ', 'かかる', '減っ', '来', '泣き', '出', 'ある', 'ある', 'し', 'そろ', '廻り']\n"
     ]
    }
   ],
   "source": [
    "doushi = []\n",
    "for lines in total_ans_list:\n",
    "    for line in lines:\n",
    "        if line['pos'] == '動詞':\n",
    "            doushi.append(line['surface'])\n",
    "            \n",
    "print(doushi[0:100])"
   ]
  },
  {
   "cell_type": "markdown",
   "metadata": {},
   "source": [
    "# 32. 動詞の原形\n",
    "動詞の原形をすべて抽出せよ．"
   ]
  },
  {
   "cell_type": "code",
   "execution_count": 7,
   "metadata": {},
   "outputs": [
    {
     "name": "stdout",
     "output_type": "stream",
     "text": [
      "['生れる', 'つく', 'する', '泣く', 'する', 'いる', '始める', '見る', '聞く', '捕える', '煮る', '食う', '思う', '載せる', 'られる', '持ち上げる', 'られる', 'する', 'ある', '落ちつく', '見る', '見る', '思う', '残る', 'いる', 'する', 'れる', 'する', '逢う', '出会う', 'する', 'なる', 'する', 'いる', '吹く', 'する', '弱る', '飲む', '知る', '坐る', 'おる', 'する', 'する', '始める', '動く', '動く', '分る', '廻る', 'なる', '助かる', '思う', 'いる', 'さる', 'する', '出る', 'する', 'いる', '考え出す', '分る', '付く', '見る', 'いる', 'おる', '見える', '隠す', 'しまう', '違う', '明く', 'いる', 'られる', '這い出す', '見る', '棄てる', 'られる', '這い出す', 'ある', '坐る', 'する', '考える', '見る', '出る', 'する', '泣く', '来る', 'くれる', '考え付く', 'やる', '見る', '来る', '渡る', 'かかる', '減る', '来る', '泣く', '出る', 'ある', 'ある', 'する', 'そる', '廻る']\n"
     ]
    }
   ],
   "source": [
    "doushi = []\n",
    "for lines in total_ans_list:\n",
    "    for line in lines:\n",
    "        if line['pos'] == '動詞':\n",
    "            doushi.append(line['base'])\n",
    "            \n",
    "print(doushi[0:100])"
   ]
  },
  {
   "cell_type": "markdown",
   "metadata": {},
   "source": [
    "# 33. サ変名詞\n",
    "サ変接続の名詞をすべて抽出せよ"
   ]
  },
  {
   "cell_type": "code",
   "execution_count": 8,
   "metadata": {},
   "outputs": [
    {
     "name": "stdout",
     "output_type": "stream",
     "text": [
      "['見当', '記憶', '話', '装飾', '突起', '運転', '記憶', '分別', '決心', '我慢', '餓死', '訪問', '始末', '猶予', '遭遇', '我慢', '記憶', '返報', '勉強', '勉強', '昼寝', '珍重', '昼寝', '経験', '供', '供', '供', '供', '——', '——', '同居', '観察', '断言', '同衾', '供', '迫害', '尊敬', '生活', '剿滅', '議論', '所有', '憤慨', '観念', '御馳走', '掠奪', '代言', '我儘', '我儘', '失敗', '話', '投書', '関', '決心', '昼寝', '鑑定', '話', '述懐', '想像', '写生', '感心', '昼寝', '失笑', '揶揄', '写生', '欠伸', '自白', '彩色', '写生', '判然', '心中', '感服', '小便', '猶予', '失敬', '欠伸', '予定', '失望', '漫罵', '小便', '増長', '増長', '我儘', '我慢', '報道', '供', '昼寝', '退屈', '加減', '一睡', '運動', '嘆賞', '佇立', '記憶', '珍重', '身動き', '挨拶', '鼓動', '軽蔑', '察', '肥満']\n"
     ]
    }
   ],
   "source": [
    "doushi = []\n",
    "for lines in total_ans_list:\n",
    "    for line in lines:\n",
    "        if line['pos'] == '名詞' and line['pos1'] == 'サ変接続':\n",
    "            doushi.append(line['surface'])\n",
    "            \n",
    "print(doushi[0:100])"
   ]
  },
  {
   "cell_type": "markdown",
   "metadata": {},
   "source": [
    "# 34. 「AのB」\n",
    "2つの名詞が「の」で連結されている名詞句を抽出せよ．"
   ]
  },
  {
   "cell_type": "code",
   "execution_count": 9,
   "metadata": {
    "scrolled": true
   },
   "outputs": [
    {
     "name": "stdout",
     "output_type": "stream",
     "text": [
      "['彼の掌', '掌の上', '書生の顔', 'はずの顔', '顔の真中', '穴の中', '書生の掌', '掌の裏', '何の事', '肝心の母親', '藁の上', '笹原の中', '池の前', '池の上', '一樹の蔭', '垣根の穴', '隣家の三', '時の通路', '一刻の猶予', '家の内', '彼の書生', '以外の人間', '前の書生', 'おさんの隙', 'おさんの三', '胸の痞', '家の主人', '主人の方', '鼻の下', '吾輩の顔', '自分の住', '吾輩の主人', '家のもの', 'うちのもの', '彼の書斎', '本の上', '皮膚の色', '本の上', '彼の毎夜', '以外のもの', '主人の傍', '彼の膝', '膝の上', '経験の上', '飯櫃の上', '炬燵の上', 'ここのうち', '供の寝床', '彼等の中間', '供の一', '例の神経', '性の主人', '次の部屋', '自分の勝手', '吾輩の方', '台所の板の間', '吾輩の尊敬', '向の白', '玉のよう', 'そこの家', '家の書生', '裏の池', '親子の愛', 'もっともの議論', '刺の頭', '鰡の臍', '彼等のため', '軍人の家', '代言の主人', '教師の家', '猫の時節', '吾輩の家', '家の主人', 'だらけの英文', '胃弱の癖', '後架の中', '平の宗', '月の月給', '当分の間', '下のよう', '今更のよう', '主人の述懐', '彼の友', '金縁の眼鏡', '主人の顔', '内の想像', '訳のもの', '利の大家', '金縁の裏', '吾輩の後ろ', '彼の友', '吾輩の輪廓', '顔のあたり', '上乗の出来', '顔の造作', '他の猫', '不器量の吾輩', '吾輩の主人', '斯産の猫', '斑入りの皮膚']\n"
     ]
    }
   ],
   "source": [
    "no = []\n",
    "for lines in total_ans_list:\n",
    "    if len(lines) > 2:\n",
    "        for i in range(1, len(lines) - 1):\n",
    "            if lines[i]['surface'] == 'の' and lines[i-1]['pos'] == '名詞' and lines[i+1]['pos'] == '名詞':\n",
    "                no.append(lines[i-1]['surface'] + 'の' + lines[i+1]['surface'])\n",
    "            \n",
    "print(no[0:100])"
   ]
  },
  {
   "cell_type": "markdown",
   "metadata": {},
   "source": [
    "# 36. 単語の出現頻度\n",
    "文章中に出現する単語とその出現頻度を求め，出現頻度の高い順に並べよ．"
   ]
  },
  {
   "cell_type": "code",
   "execution_count": 10,
   "metadata": {
    "scrolled": true
   },
   "outputs": [
    {
     "data": {
      "text/plain": [
       "の     9194\n",
       "。     7486\n",
       "て     6873\n",
       "、     6772\n",
       "は     6422\n",
       "に     6268\n",
       "を     6071\n",
       "と     5515\n",
       "が     5339\n",
       "た     3989\n",
       "で     3813\n",
       "「     3231\n",
       "」     3225\n",
       "も     2479\n",
       "ない    2391\n",
       "だ     2367\n",
       "し     2328\n",
       "から    2043\n",
       "ある    1730\n",
       "な     1612\n",
       "dtype: int64"
      ]
     },
     "execution_count": 10,
     "metadata": {},
     "output_type": "execute_result"
    }
   ],
   "source": [
    "import pandas as pd\n",
    "from pandas import Series\n",
    "hindo = []\n",
    "for lines in total_ans_list:\n",
    "    for line in lines:\n",
    "        hindo.append(line['surface'])\n",
    "\n",
    "h_series = Series(hindo)\n",
    "\n",
    "h_series.value_counts().head(20)"
   ]
  },
  {
   "cell_type": "markdown",
   "metadata": {},
   "source": [
    "# 37. 頻度上位10語\n",
    "出現頻度が高い10語とその出現頻度をグラフ（例えば棒グラフなど）で表示せよ．"
   ]
  },
  {
   "cell_type": "code",
   "execution_count": 11,
   "metadata": {},
   "outputs": [],
   "source": [
    "import matplotlib.pyplot as plt\n",
    "%matplotlib inline\n",
    "import seaborn as sns\n",
    "\n",
    "font = {\"family\":\"AppleGothic\"}\n",
    "plt.rc('font', **font)\n",
    "\n",
    "df = pd.DataFrame(hindo)\n",
    "\n",
    "df_10st = h_series.value_counts().head(10)\n",
    "\n",
    "df_valuecounts = h_series.value_counts()"
   ]
  },
  {
   "cell_type": "code",
   "execution_count": 12,
   "metadata": {},
   "outputs": [
    {
     "data": {
      "text/plain": [
       "<matplotlib.axes._subplots.AxesSubplot at 0x1a1aee2240>"
      ]
     },
     "execution_count": 12,
     "metadata": {},
     "output_type": "execute_result"
    },
    {
     "data": {
      "image/png": "[encoded data removed]",
      "text/plain": [
       "<matplotlib.figure.Figure at 0x106b43278>"
      ]
     },
     "metadata": {},
     "output_type": "display_data"
    }
   ],
   "source": [
    "sns.barplot(df_10st.index, df_10st.values)"
   ]
  },
  {
   "cell_type": "markdown",
   "metadata": {},
   "source": [
    "# 38. ヒストグラム\n",
    "単語の出現頻度のヒストグラム（横軸に出現頻度，縦軸に出現頻度をとる単語の種類数を棒グラフで表したもの）を描け．"
   ]
  },
  {
   "cell_type": "code",
   "execution_count": 13,
   "metadata": {},
   "outputs": [
    {
     "data": {
      "text/plain": [
       "<matplotlib.axes._subplots.AxesSubplot at 0x10bd5d978>"
      ]
     },
     "execution_count": 13,
     "metadata": {},
     "output_type": "execute_result"
    },
    {
     "data": {
      "image/png": "[encoded data removed]",
      "text/plain": [
       "<matplotlib.figure.Figure at 0x1a1b0b66d8>"
      ]
     },
     "metadata": {},
     "output_type": "display_data"
    }
   ],
   "source": [
    "sns.distplot(df_valuecounts,hist=True,kde=False)"
   ]
  },
  {
   "cell_type": "markdown",
   "metadata": {},
   "source": [
    "# 39. Zipfの法則\n",
    "単語の出現頻度順位を横軸，その出現頻度を縦軸として，両対数グラフをプロットせよ．"
   ]
  },
  {
   "cell_type": "code",
   "execution_count": 14,
   "metadata": {},
   "outputs": [
    {
     "data": {
      "image/png": "[encoded data removed]",
      "text/plain": [
       "<matplotlib.figure.Figure at 0x10befdfd0>"
      ]
     },
     "metadata": {},
     "output_type": "display_data"
    }
   ],
   "source": [
    "juni = range(1,len(df_valuecounts) + 1)\n",
    "\n",
    "x = juni\n",
    "y = df_valuecounts.values\n",
    "\n",
    "plt.plot(x, y)\n",
    "\n",
    "ax = plt.gca()\n",
    "ax.spines['top'].set_color('none')\n",
    "\n",
    "ax.set_yscale('log')  \n",
    "ax.set_xscale('log')\n",
    "\n",
    "plt.xlabel('出現順位',fontsize=18)\n",
    "plt.ylabel('出現頻度',fontsize=18)\n",
    "\n",
    "plt.grid(which=\"both\") # グリッド表示。\"both\"はxy軸両方にグリッドを描く。\n",
    "\n",
    "plt.show()"
   ]
  }
 ],
 "metadata": {
  "kernelspec": {
   "display_name": "Python 3",
   "language": "python",
   "name": "python3"
  },
  "language_info": {
   "codemirror_mode": {
    "name": "ipython",
    "version": 3
   },
   "file_extension": ".py",
   "mimetype": "text/x-python",
   "name": "python",
   "nbconvert_exporter": "python",
   "pygments_lexer": "ipython3",
   "version": "3.6.2"
  }
 },
 "nbformat": 4,
 "nbformat_minor": 2
}
